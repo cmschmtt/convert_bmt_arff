{
 "cells": [
  {
   "cell_type": "code",
   "execution_count": 37,
   "metadata": {},
   "outputs": [],
   "source": [
    "# !pip install liac-arff\n",
    "\n",
    "import arff\n",
    "import pandas as pd\n",
    "\n",
    "with open('bone-marrow.arff', encoding='cp1252') as f:\n",
    "    bone_marrow_arff = f.read()\n",
    "\n",
    "attributes = arff.load(bone_marrow_arff)['attributes']\n",
    "col_names = [each[0] for each in attributes]\n",
    "data = arff.load(bone_marrow_arff)['data']\n",
    "\n",
    "df = pd.DataFrame(data, columns=col_names)\n",
    "\n",
    "df.to_csv('bone_marrow.csv', index=False)"
   ]
  }
 ],
 "metadata": {
  "kernelspec": {
   "display_name": "Python 3",
   "language": "python",
   "name": "python3"
  },
  "language_info": {
   "codemirror_mode": {
    "name": "ipython",
    "version": 3
   },
   "file_extension": ".py",
   "mimetype": "text/x-python",
   "name": "python",
   "nbconvert_exporter": "python",
   "pygments_lexer": "ipython3",
   "version": "3.8.3"
  }
 },
 "nbformat": 4,
 "nbformat_minor": 4
}
